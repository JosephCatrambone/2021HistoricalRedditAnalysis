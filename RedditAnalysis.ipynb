{
 "cells": [
  {
   "cell_type": "markdown",
   "metadata": {},
   "source": [
    "Analyzing Subreddit Data from ~10 Years"
   ]
  },
  {
   "cell_type": "code",
   "execution_count": 13,
   "metadata": {},
   "outputs": [],
   "source": [
    "datapath = \"/run/user/1000/gvfs/smb-share:server=freenas.local,share=mldata/reddit_data/\""
   ]
  },
  {
   "cell_type": "code",
   "execution_count": 43,
   "metadata": {},
   "outputs": [],
   "source": [
    "import gzip\n",
    "import json\n",
    "import os\n",
    "import pickle\n",
    "from bz2 import BZ2File\n",
    "from glob import glob\n",
    "#from tqdm import tqdm\n",
    "from tqdm.notebook import tqdm"
   ]
  },
  {
   "cell_type": "code",
   "execution_count": 48,
   "metadata": {},
   "outputs": [],
   "source": [
    "def _for_each_comment(all_comment_files, fn, comment_checkpoint, file_checkpoint):\n",
    "    \"\"\"Run 'fn' once with each comment.  \n",
    "    At the end of running 'fn', call comment_checkpoint with a line number.\n",
    "    At the end of running a file, call the file_checkpoint.\n",
    "    \"\"\"\n",
    "    errors = dict()\n",
    "    for comment_file in all_comment_files:\n",
    "        print(comment_file)\n",
    "        fileref = BZ2File(comment_file)\n",
    "        for linenum, line in enumerate(fileref):\n",
    "            try:\n",
    "                comment = json.loads(line)\n",
    "                fn(comment)\n",
    "            except InterruptedError:\n",
    "                break\n",
    "            except KeyboardInterrupt:\n",
    "                break\n",
    "            except Exception as e:\n",
    "                errors[f\"{comment_file}:{linenum}\"] = e\n",
    "            if comment_checkpoint:\n",
    "                comment_checkpoint(linenum)\n",
    "        if file_checkpoint:\n",
    "            file_checkpoint()\n",
    "    return errors\n",
    "\n",
    "def for_each_comment(fn, comment_checkpoint=None, file_checkpoint=None):\n",
    "    all_comment_files = glob(str(os.path.join(datapath, \"**\", \"*.bz2\")))\n",
    "    return _for_each_comment(all_comment_files, fn, comment_checkpoint, file_checkpoint)\n",
    "\n",
    "def for_each_comment_in_year(year, fn, comment_checkpoint=None, file_checkpoint=None):\n",
    "    comment_files = glob(str(os.path.join(datapath, \"**\", f\"RC_{year}-*.bz2\")))\n",
    "    return _for_each_comment(comment_files, fn, comment_checkpoint, file_checkpoint)"
   ]
  },
  {
   "cell_type": "code",
   "execution_count": 5,
   "metadata": {
    "scrolled": true
   },
   "outputs": [
    {
     "name": "stdout",
     "output_type": "stream",
     "text": [
      "['/run/user/1000/gvfs/smb-share:server=freenas.local,share=mldata/reddit_data/2011/RC_2011-10.bz2', '/run/user/1000/gvfs/smb-share:server=freenas.local,share=mldata/reddit_data/2011/RC_2011-01.bz2', '/run/user/1000/gvfs/smb-share:server=freenas.local,share=mldata/reddit_data/2011/RC_2011-06.bz2', '/run/user/1000/gvfs/smb-share:server=freenas.local,share=mldata/reddit_data/2011/RC_2011-08.bz2', '/run/user/1000/gvfs/smb-share:server=freenas.local,share=mldata/reddit_data/2011/RC_2011-11.bz2', '/run/user/1000/gvfs/smb-share:server=freenas.local,share=mldata/reddit_data/2011/RC_2011-09.bz2', '/run/user/1000/gvfs/smb-share:server=freenas.local,share=mldata/reddit_data/2011/RC_2011-07.bz2', '/run/user/1000/gvfs/smb-share:server=freenas.local,share=mldata/reddit_data/2011/RC_2011-03.bz2', '/run/user/1000/gvfs/smb-share:server=freenas.local,share=mldata/reddit_data/2011/RC_2011-04.bz2', '/run/user/1000/gvfs/smb-share:server=freenas.local,share=mldata/reddit_data/2011/RC_2011-12.bz2', '/run/user/1000/gvfs/smb-share:server=freenas.local,share=mldata/reddit_data/2011/RC_2011-05.bz2', '/run/user/1000/gvfs/smb-share:server=freenas.local,share=mldata/reddit_data/2011/RC_2011-02.bz2', '/run/user/1000/gvfs/smb-share:server=freenas.local,share=mldata/reddit_data/2008/RC_2008-10.bz2', '/run/user/1000/gvfs/smb-share:server=freenas.local,share=mldata/reddit_data/2008/RC_2008-08.bz2', '/run/user/1000/gvfs/smb-share:server=freenas.local,share=mldata/reddit_data/2008/RC_2008-06.bz2', '/run/user/1000/gvfs/smb-share:server=freenas.local,share=mldata/reddit_data/2008/RC_2008-01.bz2', '/run/user/1000/gvfs/smb-share:server=freenas.local,share=mldata/reddit_data/2008/RC_2008-11.bz2', '/run/user/1000/gvfs/smb-share:server=freenas.local,share=mldata/reddit_data/2008/RC_2008-07.bz2', '/run/user/1000/gvfs/smb-share:server=freenas.local,share=mldata/reddit_data/2008/RC_2008-09.bz2', '/run/user/1000/gvfs/smb-share:server=freenas.local,share=mldata/reddit_data/2008/RC_2008-04.bz2', '/run/user/1000/gvfs/smb-share:server=freenas.local,share=mldata/reddit_data/2008/RC_2008-03.bz2', '/run/user/1000/gvfs/smb-share:server=freenas.local,share=mldata/reddit_data/2008/RC_2008-12.bz2', '/run/user/1000/gvfs/smb-share:server=freenas.local,share=mldata/reddit_data/2008/RC_2008-02.bz2', '/run/user/1000/gvfs/smb-share:server=freenas.local,share=mldata/reddit_data/2008/RC_2008-05.bz2', '/run/user/1000/gvfs/smb-share:server=freenas.local,share=mldata/reddit_data/2012/RC_2012-09.bz2', '/run/user/1000/gvfs/smb-share:server=freenas.local,share=mldata/reddit_data/2012/RC_2012-07.bz2', '/run/user/1000/gvfs/smb-share:server=freenas.local,share=mldata/reddit_data/2012/RC_2012-11.bz2', '/run/user/1000/gvfs/smb-share:server=freenas.local,share=mldata/reddit_data/2012/RC_2012-01.bz2', '/run/user/1000/gvfs/smb-share:server=freenas.local,share=mldata/reddit_data/2012/RC_2012-06.bz2', '/run/user/1000/gvfs/smb-share:server=freenas.local,share=mldata/reddit_data/2012/RC_2012-08.bz2', '/run/user/1000/gvfs/smb-share:server=freenas.local,share=mldata/reddit_data/2012/RC_2012-10.bz2', '/run/user/1000/gvfs/smb-share:server=freenas.local,share=mldata/reddit_data/2012/RC_2012-05.bz2', '/run/user/1000/gvfs/smb-share:server=freenas.local,share=mldata/reddit_data/2012/RC_2012-02.bz2', '/run/user/1000/gvfs/smb-share:server=freenas.local,share=mldata/reddit_data/2012/RC_2012-12.bz2', '/run/user/1000/gvfs/smb-share:server=freenas.local,share=mldata/reddit_data/2012/RC_2012-03.bz2', '/run/user/1000/gvfs/smb-share:server=freenas.local,share=mldata/reddit_data/2012/RC_2012-04.bz2', '/run/user/1000/gvfs/smb-share:server=freenas.local,share=mldata/reddit_data/2015/RC_2015-04.bz2', '/run/user/1000/gvfs/smb-share:server=freenas.local,share=mldata/reddit_data/2015/RC_2015-03.bz2', '/run/user/1000/gvfs/smb-share:server=freenas.local,share=mldata/reddit_data/2015/RC_2015-02.bz2', '/run/user/1000/gvfs/smb-share:server=freenas.local,share=mldata/reddit_data/2015/RC_2015-05.bz2', '/run/user/1000/gvfs/smb-share:server=freenas.local,share=mldata/reddit_data/2015/RC_2015-01.bz2', '/run/user/1000/gvfs/smb-share:server=freenas.local,share=mldata/reddit_data/2009/RC_2009-10.bz2', '/run/user/1000/gvfs/smb-share:server=freenas.local,share=mldata/reddit_data/2009/RC_2009-01.bz2', '/run/user/1000/gvfs/smb-share:server=freenas.local,share=mldata/reddit_data/2009/RC_2009-06.bz2', '/run/user/1000/gvfs/smb-share:server=freenas.local,share=mldata/reddit_data/2009/RC_2009-08.bz2', '/run/user/1000/gvfs/smb-share:server=freenas.local,share=mldata/reddit_data/2009/RC_2009-11.bz2', '/run/user/1000/gvfs/smb-share:server=freenas.local,share=mldata/reddit_data/2009/RC_2009-09.bz2', '/run/user/1000/gvfs/smb-share:server=freenas.local,share=mldata/reddit_data/2009/RC_2009-07.bz2', '/run/user/1000/gvfs/smb-share:server=freenas.local,share=mldata/reddit_data/2009/RC_2009-03.bz2', '/run/user/1000/gvfs/smb-share:server=freenas.local,share=mldata/reddit_data/2009/RC_2009-04.bz2', '/run/user/1000/gvfs/smb-share:server=freenas.local,share=mldata/reddit_data/2009/RC_2009-12.bz2', '/run/user/1000/gvfs/smb-share:server=freenas.local,share=mldata/reddit_data/2009/RC_2009-05.bz2', '/run/user/1000/gvfs/smb-share:server=freenas.local,share=mldata/reddit_data/2009/RC_2009-02.bz2', '/run/user/1000/gvfs/smb-share:server=freenas.local,share=mldata/reddit_data/2010/RC_2010-05.bz2', '/run/user/1000/gvfs/smb-share:server=freenas.local,share=mldata/reddit_data/2010/RC_2010-02.bz2', '/run/user/1000/gvfs/smb-share:server=freenas.local,share=mldata/reddit_data/2010/RC_2010-12.bz2', '/run/user/1000/gvfs/smb-share:server=freenas.local,share=mldata/reddit_data/2010/RC_2010-03.bz2', '/run/user/1000/gvfs/smb-share:server=freenas.local,share=mldata/reddit_data/2010/RC_2010-04.bz2', '/run/user/1000/gvfs/smb-share:server=freenas.local,share=mldata/reddit_data/2010/RC_2010-09.bz2', '/run/user/1000/gvfs/smb-share:server=freenas.local,share=mldata/reddit_data/2010/RC_2010-07.bz2', '/run/user/1000/gvfs/smb-share:server=freenas.local,share=mldata/reddit_data/2010/RC_2010-11.bz2', '/run/user/1000/gvfs/smb-share:server=freenas.local,share=mldata/reddit_data/2010/RC_2010-01.bz2', '/run/user/1000/gvfs/smb-share:server=freenas.local,share=mldata/reddit_data/2010/RC_2010-06.bz2', '/run/user/1000/gvfs/smb-share:server=freenas.local,share=mldata/reddit_data/2010/RC_2010-08.bz2', '/run/user/1000/gvfs/smb-share:server=freenas.local,share=mldata/reddit_data/2010/RC_2010-10.bz2', '/run/user/1000/gvfs/smb-share:server=freenas.local,share=mldata/reddit_data/2014/RC_2014-02.bz2', '/run/user/1000/gvfs/smb-share:server=freenas.local,share=mldata/reddit_data/2014/RC_2014-05.bz2', '/run/user/1000/gvfs/smb-share:server=freenas.local,share=mldata/reddit_data/2014/RC_2014-04.bz2', '/run/user/1000/gvfs/smb-share:server=freenas.local,share=mldata/reddit_data/2014/RC_2014-03.bz2', '/run/user/1000/gvfs/smb-share:server=freenas.local,share=mldata/reddit_data/2014/RC_2014-12.bz2', '/run/user/1000/gvfs/smb-share:server=freenas.local,share=mldata/reddit_data/2014/RC_2014-11.bz2', '/run/user/1000/gvfs/smb-share:server=freenas.local,share=mldata/reddit_data/2014/RC_2014-09.bz2', '/run/user/1000/gvfs/smb-share:server=freenas.local,share=mldata/reddit_data/2014/RC_2014-07.bz2', '/run/user/1000/gvfs/smb-share:server=freenas.local,share=mldata/reddit_data/2014/RC_2014-10.bz2', '/run/user/1000/gvfs/smb-share:server=freenas.local,share=mldata/reddit_data/2014/RC_2014-06.bz2', '/run/user/1000/gvfs/smb-share:server=freenas.local,share=mldata/reddit_data/2014/RC_2014-01.bz2', '/run/user/1000/gvfs/smb-share:server=freenas.local,share=mldata/reddit_data/2014/RC_2014-08.bz2', '/run/user/1000/gvfs/smb-share:server=freenas.local,share=mldata/reddit_data/2007/RC_2007-10.bz2', '/run/user/1000/gvfs/smb-share:server=freenas.local,share=mldata/reddit_data/2007/RC_2007-11.bz2', '/run/user/1000/gvfs/smb-share:server=freenas.local,share=mldata/reddit_data/2007/RC_2007-12.bz2', '/run/user/1000/gvfs/smb-share:server=freenas.local,share=mldata/reddit_data/2013/RC_2013-05.bz2', '/run/user/1000/gvfs/smb-share:server=freenas.local,share=mldata/reddit_data/2013/RC_2013-02.bz2', '/run/user/1000/gvfs/smb-share:server=freenas.local,share=mldata/reddit_data/2013/RC_2013-12.bz2', '/run/user/1000/gvfs/smb-share:server=freenas.local,share=mldata/reddit_data/2013/RC_2013-03.bz2', '/run/user/1000/gvfs/smb-share:server=freenas.local,share=mldata/reddit_data/2013/RC_2013-04.bz2', '/run/user/1000/gvfs/smb-share:server=freenas.local,share=mldata/reddit_data/2013/RC_2013-07.bz2', '/run/user/1000/gvfs/smb-share:server=freenas.local,share=mldata/reddit_data/2013/RC_2013-09.bz2', '/run/user/1000/gvfs/smb-share:server=freenas.local,share=mldata/reddit_data/2013/RC_2013-11.bz2', '/run/user/1000/gvfs/smb-share:server=freenas.local,share=mldata/reddit_data/2013/RC_2013-08.bz2', '/run/user/1000/gvfs/smb-share:server=freenas.local,share=mldata/reddit_data/2013/RC_2013-01.bz2', '/run/user/1000/gvfs/smb-share:server=freenas.local,share=mldata/reddit_data/2013/RC_2013-06.bz2', '/run/user/1000/gvfs/smb-share:server=freenas.local,share=mldata/reddit_data/2013/RC_2013-10.bz2']\n"
     ]
    }
   ],
   "source": [
    "print(all_comment_files)"
   ]
  },
  {
   "cell_type": "code",
   "execution_count": 21,
   "metadata": {},
   "outputs": [
    {
     "data": {
      "text/plain": [
       "{'id': 'c2nx2zj',\n",
       " 'edited': False,\n",
       " 'link_id': 't3_kwmiv',\n",
       " 'downs': 0,\n",
       " 'gilded': 0,\n",
       " 'ups': -1,\n",
       " 'author': 'Kah-Neth',\n",
       " 'score': -1,\n",
       " 'controversiality': 0,\n",
       " 'subreddit': 'hardware',\n",
       " 'parent_id': 't1_c2nttvb',\n",
       " 'distinguished': None,\n",
       " 'author_flair_css_class': None,\n",
       " 'retrieved_on': 1427670115,\n",
       " 'author_flair_text': None,\n",
       " 'name': 't1_c2nx2zj',\n",
       " 'created_utc': '1317427200',\n",
       " 'score_hidden': False,\n",
       " 'body': \"A bigger and more important difference is the Xeon's have much more L2 cache.\",\n",
       " 'archived': True,\n",
       " 'subreddit_id': 't5_2qh18'}"
      ]
     },
     "execution_count": 21,
     "metadata": {},
     "output_type": "execute_result"
    }
   ],
   "source": [
    "json.loads(comment)"
   ]
  },
  {
   "cell_type": "code",
   "execution_count": 27,
   "metadata": {},
   "outputs": [],
   "source": [
    "user_comments_by_subreddit = dict()  # Map of username -> subreddit comment count\n",
    "def tally_comment(com):\n",
    "    username = com.get('author')\n",
    "    subreddit = com.get('subreddit')\n",
    "    if username and subreddit:\n",
    "        if username not in user_comments_by_subreddit:\n",
    "            user_comments_by_subreddit[username] = dict()\n",
    "        user_comments_by_subreddit[username][subreddit] = user_comments_by_subreddit[username].get(subreddit, 0)+1"
   ]
  },
  {
   "cell_type": "code",
   "execution_count": 49,
   "metadata": {
    "scrolled": true
   },
   "outputs": [
    {
     "name": "stdout",
     "output_type": "stream",
     "text": [
      "Setting up 2007...\n",
      "Processing...\n",
      "/run/user/1000/gvfs/smb-share:server=freenas.local,share=mldata/reddit_data/2007/RC_2007-10.bz2\n",
      "/run/user/1000/gvfs/smb-share:server=freenas.local,share=mldata/reddit_data/2007/RC_2007-11.bz2\n",
      "/run/user/1000/gvfs/smb-share:server=freenas.local,share=mldata/reddit_data/2007/RC_2007-12.bz2\n",
      "Saving...\n",
      "Setting up 2008...\n",
      "Processing...\n",
      "/run/user/1000/gvfs/smb-share:server=freenas.local,share=mldata/reddit_data/2008/RC_2008-10.bz2\n",
      "/run/user/1000/gvfs/smb-share:server=freenas.local,share=mldata/reddit_data/2008/RC_2008-08.bz2\n",
      "/run/user/1000/gvfs/smb-share:server=freenas.local,share=mldata/reddit_data/2008/RC_2008-06.bz2\n",
      "/run/user/1000/gvfs/smb-share:server=freenas.local,share=mldata/reddit_data/2008/RC_2008-01.bz2\n",
      "/run/user/1000/gvfs/smb-share:server=freenas.local,share=mldata/reddit_data/2008/RC_2008-11.bz2\n",
      "/run/user/1000/gvfs/smb-share:server=freenas.local,share=mldata/reddit_data/2008/RC_2008-07.bz2\n"
     ]
    },
    {
     "ename": "KeyboardInterrupt",
     "evalue": "",
     "output_type": "error",
     "traceback": [
      "\u001b[0;31m---------------------------------------------------------------------------\u001b[0m",
      "\u001b[0;31mKeyboardInterrupt\u001b[0m                         Traceback (most recent call last)",
      "\u001b[0;32m/tmp/ipykernel_7965/2206314021.py\u001b[0m in \u001b[0;36m<module>\u001b[0;34m\u001b[0m\n\u001b[1;32m     16\u001b[0m     \u001b[0;31m# Process comments for year...\u001b[0m\u001b[0;34m\u001b[0m\u001b[0;34m\u001b[0m\u001b[0;34m\u001b[0m\u001b[0m\n\u001b[1;32m     17\u001b[0m     \u001b[0mprint\u001b[0m\u001b[0;34m(\u001b[0m\u001b[0;34m\"Processing...\"\u001b[0m\u001b[0;34m)\u001b[0m\u001b[0;34m\u001b[0m\u001b[0;34m\u001b[0m\u001b[0m\n\u001b[0;32m---> 18\u001b[0;31m     \u001b[0m_\u001b[0m \u001b[0;34m=\u001b[0m \u001b[0mfor_each_comment_in_year\u001b[0m\u001b[0;34m(\u001b[0m\u001b[0myear\u001b[0m\u001b[0;34m,\u001b[0m \u001b[0mtally_comment\u001b[0m\u001b[0;34m,\u001b[0m \u001b[0mcomment_checkpoint\u001b[0m\u001b[0;34m=\u001b[0m\u001b[0msleep_after_5k\u001b[0m\u001b[0;34m)\u001b[0m\u001b[0;34m\u001b[0m\u001b[0;34m\u001b[0m\u001b[0m\n\u001b[0m\u001b[1;32m     19\u001b[0m     \u001b[0;31m# Save output...\u001b[0m\u001b[0;34m\u001b[0m\u001b[0;34m\u001b[0m\u001b[0;34m\u001b[0m\u001b[0m\n\u001b[1;32m     20\u001b[0m     \u001b[0mprint\u001b[0m\u001b[0;34m(\u001b[0m\u001b[0;34m\"Saving...\"\u001b[0m\u001b[0;34m)\u001b[0m\u001b[0;34m\u001b[0m\u001b[0;34m\u001b[0m\u001b[0m\n",
      "\u001b[0;32m/tmp/ipykernel_7965/3113407765.py\u001b[0m in \u001b[0;36mfor_each_comment_in_year\u001b[0;34m(year, fn, comment_checkpoint, file_checkpoint)\u001b[0m\n\u001b[1;32m     30\u001b[0m \u001b[0;32mdef\u001b[0m \u001b[0mfor_each_comment_in_year\u001b[0m\u001b[0;34m(\u001b[0m\u001b[0myear\u001b[0m\u001b[0;34m,\u001b[0m \u001b[0mfn\u001b[0m\u001b[0;34m,\u001b[0m \u001b[0mcomment_checkpoint\u001b[0m\u001b[0;34m=\u001b[0m\u001b[0;32mNone\u001b[0m\u001b[0;34m,\u001b[0m \u001b[0mfile_checkpoint\u001b[0m\u001b[0;34m=\u001b[0m\u001b[0;32mNone\u001b[0m\u001b[0;34m)\u001b[0m\u001b[0;34m:\u001b[0m\u001b[0;34m\u001b[0m\u001b[0;34m\u001b[0m\u001b[0m\n\u001b[1;32m     31\u001b[0m     \u001b[0mcomment_files\u001b[0m \u001b[0;34m=\u001b[0m \u001b[0mglob\u001b[0m\u001b[0;34m(\u001b[0m\u001b[0mstr\u001b[0m\u001b[0;34m(\u001b[0m\u001b[0mos\u001b[0m\u001b[0;34m.\u001b[0m\u001b[0mpath\u001b[0m\u001b[0;34m.\u001b[0m\u001b[0mjoin\u001b[0m\u001b[0;34m(\u001b[0m\u001b[0mdatapath\u001b[0m\u001b[0;34m,\u001b[0m \u001b[0;34m\"**\"\u001b[0m\u001b[0;34m,\u001b[0m \u001b[0;34mf\"RC_{year}-*.bz2\"\u001b[0m\u001b[0;34m)\u001b[0m\u001b[0;34m)\u001b[0m\u001b[0;34m)\u001b[0m\u001b[0;34m\u001b[0m\u001b[0;34m\u001b[0m\u001b[0m\n\u001b[0;32m---> 32\u001b[0;31m     \u001b[0;32mreturn\u001b[0m \u001b[0m_for_each_comment\u001b[0m\u001b[0;34m(\u001b[0m\u001b[0mcomment_files\u001b[0m\u001b[0;34m,\u001b[0m \u001b[0mfn\u001b[0m\u001b[0;34m,\u001b[0m \u001b[0mcomment_checkpoint\u001b[0m\u001b[0;34m,\u001b[0m \u001b[0mfile_checkpoint\u001b[0m\u001b[0;34m)\u001b[0m\u001b[0;34m\u001b[0m\u001b[0;34m\u001b[0m\u001b[0m\n\u001b[0m",
      "\u001b[0;32m/tmp/ipykernel_7965/3113407765.py\u001b[0m in \u001b[0;36m_for_each_comment\u001b[0;34m(all_comment_files, fn, comment_checkpoint, file_checkpoint)\u001b[0m\n\u001b[1;32m     19\u001b[0m                 \u001b[0merrors\u001b[0m\u001b[0;34m[\u001b[0m\u001b[0;34mf\"{comment_file}:{linenum}\"\u001b[0m\u001b[0;34m]\u001b[0m \u001b[0;34m=\u001b[0m \u001b[0me\u001b[0m\u001b[0;34m\u001b[0m\u001b[0;34m\u001b[0m\u001b[0m\n\u001b[1;32m     20\u001b[0m             \u001b[0;32mif\u001b[0m \u001b[0mcomment_checkpoint\u001b[0m\u001b[0;34m:\u001b[0m\u001b[0;34m\u001b[0m\u001b[0;34m\u001b[0m\u001b[0m\n\u001b[0;32m---> 21\u001b[0;31m                 \u001b[0mcomment_checkpoint\u001b[0m\u001b[0;34m(\u001b[0m\u001b[0mlinenum\u001b[0m\u001b[0;34m)\u001b[0m\u001b[0;34m\u001b[0m\u001b[0;34m\u001b[0m\u001b[0m\n\u001b[0m\u001b[1;32m     22\u001b[0m         \u001b[0;32mif\u001b[0m \u001b[0mfile_checkpoint\u001b[0m\u001b[0;34m:\u001b[0m\u001b[0;34m\u001b[0m\u001b[0;34m\u001b[0m\u001b[0m\n\u001b[1;32m     23\u001b[0m             \u001b[0mfile_checkpoint\u001b[0m\u001b[0;34m(\u001b[0m\u001b[0;34m)\u001b[0m\u001b[0;34m\u001b[0m\u001b[0;34m\u001b[0m\u001b[0m\n",
      "\u001b[0;32m/tmp/ipykernel_7965/2206314021.py\u001b[0m in \u001b[0;36msleep_after_5k\u001b[0;34m(line_count)\u001b[0m\n\u001b[1;32m     13\u001b[0m     \u001b[0;32mdef\u001b[0m \u001b[0msleep_after_5k\u001b[0m\u001b[0;34m(\u001b[0m\u001b[0mline_count\u001b[0m\u001b[0;34m)\u001b[0m\u001b[0;34m:\u001b[0m\u001b[0;34m\u001b[0m\u001b[0;34m\u001b[0m\u001b[0m\n\u001b[1;32m     14\u001b[0m         \u001b[0;32mif\u001b[0m \u001b[0mline_count\u001b[0m \u001b[0;34m%\u001b[0m \u001b[0;36m5000\u001b[0m \u001b[0;34m==\u001b[0m \u001b[0;36m0\u001b[0m\u001b[0;34m:\u001b[0m\u001b[0;34m\u001b[0m\u001b[0;34m\u001b[0m\u001b[0m\n\u001b[0;32m---> 15\u001b[0;31m             \u001b[0mtime\u001b[0m\u001b[0;34m.\u001b[0m\u001b[0msleep\u001b[0m\u001b[0;34m(\u001b[0m\u001b[0;36m1\u001b[0m\u001b[0;34m)\u001b[0m\u001b[0;34m\u001b[0m\u001b[0;34m\u001b[0m\u001b[0m\n\u001b[0m\u001b[1;32m     16\u001b[0m     \u001b[0;31m# Process comments for year...\u001b[0m\u001b[0;34m\u001b[0m\u001b[0;34m\u001b[0m\u001b[0;34m\u001b[0m\u001b[0m\n\u001b[1;32m     17\u001b[0m     \u001b[0mprint\u001b[0m\u001b[0;34m(\u001b[0m\u001b[0;34m\"Processing...\"\u001b[0m\u001b[0;34m)\u001b[0m\u001b[0;34m\u001b[0m\u001b[0;34m\u001b[0m\u001b[0m\n",
      "\u001b[0;31mKeyboardInterrupt\u001b[0m: "
     ]
    }
   ],
   "source": [
    "import time\n",
    "for year in range(2007, 2016):\n",
    "    # Clear old user comments...\n",
    "    print(f\"Setting up {year}...\")\n",
    "    user_comments_by_subreddit = dict()\n",
    "    def tally_comment(com):\n",
    "        username = com.get('author')\n",
    "        subreddit = com.get('subreddit')\n",
    "        if username and subreddit:\n",
    "            if username not in user_comments_by_subreddit:\n",
    "                user_comments_by_subreddit[username] = dict()\n",
    "            user_comments_by_subreddit[username][subreddit] = user_comments_by_subreddit[username].get(subreddit, 0)+1\n",
    "    def sleep_after_5k(line_count):\n",
    "        if line_count % 5000 == 0:\n",
    "            time.sleep(1)\n",
    "    def checkpoint():\n",
    "        print(\"Saving...\")\n",
    "        with gzip.open(f\"reddit_comment_tally_{year}.json.gz\", 'wt') as fout:\n",
    "            json.dump(user_comments_by_subreddit, fout)\n",
    "    # Process comments for year...\n",
    "    print(\"Processing...\")\n",
    "    _ = for_each_comment_in_year(year, tally_comment, comment_checkpoint=sleep_after_5k, file_checkpoint=checkpoint)"
   ]
  },
  {
   "cell_type": "code",
   "execution_count": 29,
   "metadata": {},
   "outputs": [
    {
     "data": {
      "text/plain": [
       "420861"
      ]
     },
     "execution_count": 29,
     "metadata": {},
     "output_type": "execute_result"
    }
   ],
   "source": [
    "len(user_comments_by_subreddit)"
   ]
  },
  {
   "cell_type": "code",
   "execution_count": 41,
   "metadata": {},
   "outputs": [
    {
     "ename": "KeyError",
     "evalue": "'omgitsjo'",
     "output_type": "error",
     "traceback": [
      "\u001b[0;31m---------------------------------------------------------------------------\u001b[0m",
      "\u001b[0;31mKeyError\u001b[0m                                  Traceback (most recent call last)",
      "\u001b[0;32m/tmp/ipykernel_7965/80159508.py\u001b[0m in \u001b[0;36m<module>\u001b[0;34m\u001b[0m\n\u001b[0;32m----> 1\u001b[0;31m \u001b[0muser_comments_by_subreddit\u001b[0m\u001b[0;34m[\u001b[0m\u001b[0;34m'omgitsjo'\u001b[0m\u001b[0;34m]\u001b[0m\u001b[0;34m\u001b[0m\u001b[0;34m\u001b[0m\u001b[0m\n\u001b[0m",
      "\u001b[0;31mKeyError\u001b[0m: 'omgitsjo'"
     ]
    }
   ],
   "source": [
    "user_comments_by_subreddit['omgitsjo']"
   ]
  },
  {
   "cell_type": "code",
   "execution_count": 42,
   "metadata": {},
   "outputs": [
    {
     "data": {
      "text/plain": [
       "'/home/joseph/Dropbox/Source'"
      ]
     },
     "execution_count": 42,
     "metadata": {},
     "output_type": "execute_result"
    }
   ],
   "source": []
  },
  {
   "cell_type": "code",
   "execution_count": null,
   "metadata": {},
   "outputs": [],
   "source": []
  }
 ],
 "metadata": {
  "kernelspec": {
   "display_name": "Python 3",
   "language": "python",
   "name": "python3"
  },
  "language_info": {
   "codemirror_mode": {
    "name": "ipython",
    "version": 3
   },
   "file_extension": ".py",
   "mimetype": "text/x-python",
   "name": "python",
   "nbconvert_exporter": "python",
   "pygments_lexer": "ipython3",
   "version": "3.7.7"
  }
 },
 "nbformat": 4,
 "nbformat_minor": 5
}
