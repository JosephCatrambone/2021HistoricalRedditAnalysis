{
 "cells": [
  {
   "cell_type": "code",
   "execution_count": null,
   "metadata": {},
   "outputs": [],
   "source": [
    "# Start by generating data with RedditAnalysis_comments_by_subreddit_by_year.py"
   ]
  },
  {
   "cell_type": "code",
   "execution_count": 1,
   "metadata": {},
   "outputs": [],
   "source": [
    "import gzip\n",
    "import json\n",
    "from PIL import Image"
   ]
  },
  {
   "cell_type": "code",
   "execution_count": 2,
   "metadata": {},
   "outputs": [],
   "source": [
    "# First assemble the list of _all_ unique subreddits.\n",
    "subreddit_to_id = dict()\n",
    "id_to_subreddit = list()\n",
    "subreddit_id_to_post_count = list()\n",
    "\n",
    "for year in range(2007, 2016):\n",
    "    # Load data for the year:\n",
    "    with gzip.open(f\"reddit_comment_tally_{year}.json.gz\", 'rt') as fin:\n",
    "        data = json.load(fin)\n",
    "    # Collect the unique subreddits.\n",
    "    for user_name, post_counts in data.items():\n",
    "        for subreddit_name, subreddit_posts in post_counts.items():\n",
    "            if subreddit_name.lower() not in subreddit_to_id:\n",
    "                subreddit_to_id[subreddit_name.lower()] = len(subreddit_to_id)\n",
    "                id_to_subreddit.append(subreddit_name.lower())\n",
    "                subreddit_id_to_post_count.append(0)\n",
    "            subreddit_id_to_post_count[subreddit_to_id[subreddit_name.lower()]] += subreddit_posts\n"
   ]
  },
  {
   "cell_type": "code",
   "execution_count": 35,
   "metadata": {},
   "outputs": [
    {
     "data": {
      "image/png": "[encoded data removed]",
      "text/plain": [
       "<Figure size 640x480 with 1 Axes>"
      ]
     },
     "metadata": {},
     "output_type": "display_data"
    }
   ],
   "source": [
    "import math\n",
    "import matplotlib.pyplot as plt\n",
    "import numpy\n",
    "\n",
    "plt.rcdefaults()\n",
    "fig, ax = plt.subplots()\n",
    "\n",
    "# Make histograms.\n",
    "names =   [\"Fewer than 10\", \"Fewer than 100\", \"Fewer than 1000\", \"Fewer than 10000\", \"More than 10000\"]\n",
    "buckets = [0,               0,                0,                 0,                   0               ]\n",
    "for pc in subreddit_id_to_post_count:\n",
    "    buckets[min(int(math.log(pc)/math.log(10)), 4)] += 1\n",
    "\n",
    "y_pos = numpy.arange(len(names))\n",
    "posts = numpy.asarray(buckets)\n",
    "error = numpy.zeros(len(names))\n",
    "\n",
    "ax.barh(y_pos, posts, xerr=error, align='center')\n",
    "ax.set_yticks(y_pos)\n",
    "ax.set_yticklabels(names)\n",
    "ax.invert_yaxis()  # labels read top-to-bottom\n",
    "ax.set_xlabel('Posts')\n",
    "ax.set_title('Total Posts by Subreddit')\n",
    "\n",
    "plt.show()\n"
   ]
  },
  {
   "cell_type": "code",
   "execution_count": 37,
   "metadata": {},
   "outputs": [
    {
     "name": "stdout",
     "output_type": "stream",
     "text": [
      "Before filtering: 239772\n",
      "After filtering: 14290\n"
     ]
    }
   ],
   "source": [
    "# Filter the subreddits with fewerthan 1000 posts over ten years.\n",
    "print(f\"Before filtering: {len(subreddit_to_id)}\")\n",
    "\n",
    "subreddit_to_id_filtered = dict()\n",
    "id_to_subreddit_filtered = list()\n",
    "\n",
    "for sub_name, sub_id in subreddit_to_id.items():\n",
    "    if subreddit_id_to_post_count[sub_id] > 1000:\n",
    "        id_to_subreddit_filtered.append(len(subreddit_to_id_filtered))\n",
    "        subreddit_to_id_filtered[sub_name] = len(subreddit_to_id_filtered)\n",
    "\n",
    "subreddit_to_id = subreddit_to_id_filtered\n",
    "id_to_subreddit = id_to_subreddit_filtered\n",
    "\n",
    "print(f\"After filtering: {len(subreddit_to_id)}\")"
   ]
  },
  {
   "cell_type": "code",
   "execution_count": 47,
   "metadata": {},
   "outputs": [
    {
     "name": "stdout",
     "output_type": "stream",
     "text": [
      "Processing 2007...\n",
      "Reading data...\n",
      "Procesing comments...\n",
      "Done!\n",
      "Processing 2008...\n",
      "Reading data...\n",
      "Procesing comments...\n",
      "Done!\n",
      "Processing 2009...\n",
      "Reading data...\n",
      "Procesing comments...\n",
      "Done!\n",
      "Processing 2010...\n",
      "Reading data...\n",
      "Procesing comments...\n",
      "Done!\n",
      "Processing 2011...\n",
      "Reading data...\n",
      "Procesing comments...\n",
      "Done!\n",
      "Processing 2012...\n",
      "Reading data...\n",
      "Procesing comments...\n",
      "Done!\n",
      "Processing 2013...\n",
      "Reading data...\n",
      "Procesing comments...\n",
      "Done!\n",
      "Processing 2014...\n",
      "Reading data...\n",
      "Procesing comments...\n",
      "Done!\n",
      "Processing 2015...\n",
      "Reading data...\n",
      "Procesing comments...\n",
      "Done!\n"
     ]
    }
   ],
   "source": [
    "# If someone posts to both r/aww and r/catsstandingup, we consider these subreddits to be more likely to transition to each other.\n",
    "# We take a user's posting habits, normalize them (so if they post to r/funny 900 times and r/gifs 100 times, we have a score of 0.9 for r/funny and 0.1 for r/gifs.)\n",
    "# Then we accumulate on our gigantic matrix.\n",
    "# Eventually we'll do the power series of the matrix.  We have the immediate effects of people posting in subreddits a and b, but what if we want to trace from a source like r/conservative to see how often posters from there move to other subs?\n",
    "# Calculate first-order effects first.\n",
    "import numpy\n",
    "\n",
    "# TODO: We should do this by year when we have enough space for all matrices.\n",
    "edge_weights_by_year = dict()\n",
    "# transition_matrix.size*transition_matrix.itemsize = 74439339552\n",
    "# I only have 64 gigs of ram, and 239772 rows * 239772 columns * 8 bytes = 459924895872 bytes.  459gigs.\n",
    "# If we use edge_weights, a dict of dicts, we get a sparse matrix and deliberately fragmented memory.\n",
    "\n",
    "for year in range(2007, 2016):\n",
    "    print(f\"Processing {year}...\")\n",
    "    \n",
    "    # Load data for the year:\n",
    "    print(\"Reading data...\")\n",
    "    with gzip.open(f\"reddit_comment_tally_{year}.json.gz\", 'rt') as fin:\n",
    "        data = json.load(fin)\n",
    "\n",
    "    # Memory map a file in temp:\n",
    "    #print(\"Memory mapping matrix...\")\n",
    "    #edge_weights = numpy.memmap(f\"C:\\\\temp\\\\{year}_memmap.npy\", dtype='float32', mode='w+', shape=(len(id_to_subreddit),len(id_to_subreddit)))\n",
    "    edge_weights = numpy.zeros((len(id_to_subreddit), len(id_to_subreddit)), dtype=numpy.float)\n",
    "    \n",
    "    # We will get a series of 'user vectors', which consist of the counts of the places where a user posts.\n",
    "    # We want to estimate the 'probability' that a person transitions from one subreddit to another.\n",
    "    # To do this, we COULD just add 1+log(posts) on the edge from subreddit[a]->[b] and let the log help us keep the numbers under control, but instead we normalize based on the number of posts so each row counts as one person.\n",
    "    print(\"Procesing comments...\")\n",
    "    for user_name, post_counts in data.items():\n",
    "        # Accumulate total posts so we can normalize.\n",
    "        total_posts = 0\n",
    "        for _, subreddit_posts in post_counts.items():\n",
    "            total_posts += subreddit_posts\n",
    "        if total_posts == 0:\n",
    "            continue\n",
    "            \n",
    "        # Bump the number of times A and B are active together.\n",
    "        for subreddit_name_a, subreddit_posts_a in post_counts.items():\n",
    "            subreddit_id_a = subreddit_to_id.get(subreddit_name_a.lower())\n",
    "            if subreddit_id_a is None:\n",
    "                continue\n",
    "            for subreddit_name_b, subreddit_posts_b in post_counts.items():\n",
    "                subreddit_id_b = subreddit_to_id.get(subreddit_name_b.lower())\n",
    "                if subreddit_id_b is None:\n",
    "                    continue\n",
    "                edge_weights[subreddit_id_a,subreddit_id_b] += float(subreddit_posts_a+subreddit_posts_b)/float(total_posts)\n",
    "                # Considering NPMI here instead.\n",
    "    edge_weights_by_year[year] = edge_weights\n",
    "    \n",
    "    print(\"Done!\")"
   ]
  },
  {
   "cell_type": "code",
   "execution_count": 74,
   "metadata": {},
   "outputs": [],
   "source": [
    "max_posts_by_year_by_row = numpy.zeros((2016-2007, edge_weights_by_year[2007].shape[0]), dtype=numpy.uint32)\n",
    "for year in range(2007, 2016):\n",
    "    max_posts_by_year_by_row[year-2007,:] = numpy.max(edge_weights_by_year[2007], axis=1)"
   ]
  },
  {
   "cell_type": "code",
   "execution_count": 69,
   "metadata": {},
   "outputs": [],
   "source": [
    "from PIL import Image"
   ]
  },
  {
   "cell_type": "code",
   "execution_count": null,
   "metadata": {},
   "outputs": [],
   "source": [
    "with gzip.open(f\"edge_weights_all.json.gz\", 'wt') as fout:\n",
    "    json.dump({\"id_to_name\": id_to_subreddit, \"weights\": edge_weights}, fout)"
   ]
  },
  {
   "cell_type": "code",
   "execution_count": 66,
   "metadata": {},
   "outputs": [
    {
     "data": {
      "text/plain": [
       "0.00039127445307049144"
      ]
     },
     "execution_count": 66,
     "metadata": {},
     "output_type": "execute_result"
    }
   ],
   "source": [
    "edge_weights_by_year[2008][subreddit_to_id['aww'],subreddit_to_id['bayarea']]"
   ]
  },
  {
   "cell_type": "code",
   "execution_count": 70,
   "metadata": {},
   "outputs": [],
   "source": [
    "with open(\"id_to_subreddit.json\", 'wt') as fout:\n",
    "    json.dump(id_to_subreddit, fout)\n",
    "with open(\"subreddit_to_id.json\", 'wt') as fout:\n",
    "    json.dump(subreddit_to_id, fout)  # Redundant"
   ]
  },
  {
   "cell_type": "code",
   "execution_count": 73,
   "metadata": {},
   "outputs": [],
   "source": [
    "for year, weights in edge_weights_by_year.items():\n",
    "    #img = Image.fromarray(weights)\n",
    "    numpy.save(f\"weights_raw_{year}\", weights)"
   ]
  },
  {
   "cell_type": "code",
   "execution_count": null,
   "metadata": {},
   "outputs": [],
   "source": []
  }
 ],
 "metadata": {
  "kernelspec": {
   "display_name": "Python 3",
   "language": "python",
   "name": "python3"
  },
  "language_info": {
   "codemirror_mode": {
    "name": "ipython",
    "version": 3
   },
   "file_extension": ".py",
   "mimetype": "text/x-python",
   "name": "python",
   "nbconvert_exporter": "python",
   "pygments_lexer": "ipython3",
   "version": "3.7.7"
  }
 },
 "nbformat": 4,
 "nbformat_minor": 4
}
